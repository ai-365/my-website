{
 "cells": [
  {
   "cell_type": "code",
   "execution_count": 1,
   "id": "9ac2bae7-3370-49af-9b57-3a6581dfd859",
   "metadata": {},
   "outputs": [
    {
     "name": "stdout",
     "output_type": "stream",
     "text": [
      "hello\n"
     ]
    }
   ],
   "source": [
    "print('hello')"
   ]
  },
  {
   "cell_type": "code",
   "execution_count": 2,
   "id": "9c8c0091-7b05-455a-bfb0-6ac1c52a5df1",
   "metadata": {},
   "outputs": [
    {
     "name": "stdout",
     "output_type": "stream",
     "text": [
      "\n",
      "- [AI](AI/index.md)\n",
      "- [JavaScript](JavaScript/index.md)\n",
      "- [Python](Python/index.md)\n",
      "- [Linux](Linux/index.md)\n"
     ]
    }
   ],
   "source": [
    "!cat index.md"
   ]
  },
  {
   "cell_type": "code",
   "execution_count": 3,
   "id": "d26e2de5-220f-4b75-8d94-20af89949926",
   "metadata": {},
   "outputs": [
    {
     "name": "stdout",
     "output_type": "stream",
     "text": [
      "/workspaces/blog\n"
     ]
    }
   ],
   "source": [
    "!pwd"
   ]
  },
  {
   "cell_type": "code",
   "execution_count": null,
   "id": "3a7faa58-16b9-4cb4-984f-f4088c56be0b",
   "metadata": {},
   "outputs": [],
   "source": []
  },
  {
   "cell_type": "code",
   "execution_count": null,
   "id": "f85575a4-fa6e-43e2-8d0d-058b634600e9",
   "metadata": {},
   "outputs": [],
   "source": []
  }
 ],
 "metadata": {
  "kernelspec": {
   "display_name": "Python 3 (ipykernel)",
   "language": "python",
   "name": "python3"
  },
  "language_info": {
   "codemirror_mode": {
    "name": "ipython",
    "version": 3
   },
   "file_extension": ".py",
   "mimetype": "text/x-python",
   "name": "python",
   "nbconvert_exporter": "python",
   "pygments_lexer": "ipython3",
   "version": "3.12.1"
  }
 },
 "nbformat": 4,
 "nbformat_minor": 5
}
